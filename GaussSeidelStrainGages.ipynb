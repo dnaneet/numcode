{
  "nbformat": 4,
  "nbformat_minor": 0,
  "metadata": {
    "colab": {
      "name": "GaussSeidelStrainGages.ipynb",
      "provenance": [],
      "collapsed_sections": [],
      "include_colab_link": true
    },
    "kernelspec": {
      "name": "python3",
      "display_name": "Python 3"
    }
  },
  "cells": [
    {
      "cell_type": "markdown",
      "metadata": {
        "id": "view-in-github",
        "colab_type": "text"
      },
      "source": [
        "<a href=\"https://colab.research.google.com/github/dnaneet/numcode/blob/master/GaussSeidelStrainGages.ipynb\" target=\"_parent\"><img src=\"https://colab.research.google.com/assets/colab-badge.svg\" alt=\"Open In Colab\"/></a>"
      ]
    },
    {
      "cell_type": "markdown",
      "metadata": {
        "id": "6XuVQwCpAH8X"
      },
      "source": [
        "The Gauss-Seidel iterative method is used to solve linear, simultaneous equation such as what you would have for a strain rosette.  A problem with three equations in three variables has been chosen for this demonstration.\n",
        "\n"
      ]
    },
    {
      "cell_type": "code",
      "metadata": {
        "id": "GTSbkORMLowT"
      },
      "source": [
        "import numpy as np #numerics package\n",
        "np.set_printoptions(precision=3) #digits of precision for printing purposes"
      ],
      "execution_count": 1,
      "outputs": []
    },
    {
      "cell_type": "code",
      "metadata": {
        "id": "qliq_ovvMHi4"
      },
      "source": [
        "#Equations to solve using Gauss-Siedel iterative method:\n",
        "#These could be simultaneous equations for strain gages\n",
        "# 10 x_1 +  x_2 - x_3 = 18\n",
        "# x_1 + 15 x_2 + x_3 = -12\n",
        "# -x_1 + x_2 + 20 x_3 = 17\n",
        "#\n",
        "x_guess_0 = np.array([1, 1, 1]); #initial guess\n",
        "x_guess_0.astype(float) #convert initial guess values to \"float\" instead of \"int\"\n",
        "err_tol = 0.001; #This is the target \"error\".  The smaller this value, the more accurate\n",
        "                 #your results will be but the simulation will run for longer.\n",
        "run = 1; #simulation run number.  Initial value is \"1\" for \"first run\".  This will be \n",
        "         #updated for subsequent runs.\n",
        "err_max = err_tol + 1; #Artificial value to \"kick-start\" simulation.  \n",
        "                       #Choose a value that is GREATER THAN the erro tolerance.\n",
        "err_max_ARRAY = np.array([0]); #This array will store the maximum error calculated\n",
        "                               #between current value and previous value.\n",
        "                               #When the max error is less than the tolerance value\n",
        "                               #the simulation is assumed to have converged to\n",
        "                               #the final solution.\n",
        "\n",
        "#!! Remember that in Python array number starts at 0 and not 1. \n",
        "# Hence, if you have an array a = [3,10,15], the 1st element is a[0] = 3,\n",
        "# the second element is a[1] = 10 and the third element is a[2] = 15.                               \n"
      ],
      "execution_count": 2,
      "outputs": []
    },
    {
      "cell_type": "code",
      "metadata": {
        "id": "bWyK6D3yMT7D",
        "colab": {
          "base_uri": "https://localhost:8080/"
        },
        "outputId": "502e7e55-14ad-4ac1-efc0-e7e713e7d2e1"
      },
      "source": [
        "while (err_max >= err_tol):\n",
        "    if(run == 1):\n",
        "        x_guess_old = x_guess_0;\n",
        "    else:\n",
        "        x_guess_old = x_new\n",
        "    run = run+1;    \n",
        "    x_1_new = (18 - x_guess_old[1] + x_guess_old[2])/10;#uses previous guess values for x_2, x_3\n",
        "    x_2_new = (-12 - x_1_new - x_guess_old[2])/15; #uses x_1_new\n",
        "    x_3_new = (17 + x_1_new - x_2_new)/20;#uses x_1_new and x_2_new\n",
        "    x_new = np.array([x_1_new, x_2_new, x_3_new]);\n",
        "    err_1 = (x_1_new-x_guess_old[0])*100/x_1_new; #percentage error calculation between current value and previous value\n",
        "    err_2 = (x_2_new-x_guess_old[1])*100/x_2_new; #percentage error calculation between current value and previous value\n",
        "    err_3 = (x_3_new-x_guess_old[2])*100/x_3_new; #percentage error calculation between current value and previous value\n",
        "    err = np.array([err_1, err_2, err_3]); #choose maximum of all percentage errors\n",
        "    err_max = np.amax(err) \n",
        "    print('Max error: ')\n",
        "    print(err_max)\n",
        "    print('\\n')\n",
        "    \n",
        "    if(err_max <= err_tol): #check if solution has converged by comparing max error with error tolerance\n",
        "        print(' ')\n",
        "        print('*******************************')\n",
        "        print('Converged solution!') \n",
        "        print(x_new)\n",
        "        print('******************************')  "
      ],
      "execution_count": 3,
      "outputs": [
        {
          "output_type": "stream",
          "text": [
            "Max error: \n",
            "201.35135135135135\n",
            "\n",
            "\n",
            "Max error: \n",
            "9.891870244293163\n",
            "\n",
            "\n",
            "Max error: \n",
            "0.11483260734020947\n",
            "\n",
            "\n",
            "Max error: \n",
            "0.005054014919569182\n",
            "\n",
            "\n",
            "Max error: \n",
            "0.0001157703626143231\n",
            "\n",
            "\n",
            " \n",
            "*******************************\n",
            "Converged solution!\n",
            "[ 2. -1.  1.]\n",
            "******************************\n"
          ],
          "name": "stdout"
        }
      ]
    }
  ]
}