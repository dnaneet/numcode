{
 "cells": [
  {
   "cell_type": "code",
   "execution_count": 1,
   "metadata": {
    "collapsed": true
   },
   "outputs": [],
   "source": [
    "import numpy as np\n",
    "import matplotlib.pyplot as plt"
   ]
  },
  {
   "cell_type": "code",
   "execution_count": 53,
   "metadata": {
    "collapsed": false
   },
   "outputs": [
    {
     "name": "stdout",
     "output_type": "stream",
     "text": [
      "('time step, final time and number of time steps are respectively: ', 0.1, 5, 50)\n"
     ]
    }
   ],
   "source": [
    "dt=.1;\n",
    "tEnd=5;\n",
    "n=np.int(tEnd/dt);\n",
    "print('time step, final time and number of time steps are respectively: ', dt, tEnd, n)"
   ]
  },
  {
   "cell_type": "code",
   "execution_count": 54,
   "metadata": {
    "collapsed": false
   },
   "outputs": [
    {
     "name": "stdout",
     "output_type": "stream",
     "text": [
      "[ 1.  0.  0.  0.  0.  0.  0.  0.  0.  0.  0.  0.  0.  0.  0.  0.  0.  0.\n",
      "  0.  0.  0.  0.  0.  0.  0.  0.  0.  0.  0.  0.  0.  0.  0.  0.  0.  0.\n",
      "  0.  0.  0.  0.  0.  0.  0.  0.  0.  0.  0.  0.  0.  0.]\n"
     ]
    }
   ],
   "source": [
    "#Solution array\n",
    "y = np.zeros(n) #Allocation of space\n",
    "y[0]=1; #Initial condition\n",
    "print y"
   ]
  },
  {
   "cell_type": "code",
   "execution_count": 55,
   "metadata": {
    "collapsed": false
   },
   "outputs": [
    {
     "name": "stdout",
     "output_type": "stream",
     "text": [
      "[   1.            1.1           1.21          1.331         1.4641\n",
      "    1.61051       1.771561      1.9487171     2.14358881    2.35794769\n",
      "    2.59374246    2.85311671    3.13842838    3.45227121    3.79749834\n",
      "    4.17724817    4.59497299    5.05447028    5.55991731    6.11590904\n",
      "    6.72749995    7.40024994    8.14027494    8.95430243    9.84973268\n",
      "   10.83470594   11.91817654   13.10999419   14.42099361   15.86309297\n",
      "   17.44940227   19.1943425    21.11377675   23.22515442   25.54766986\n",
      "   28.10243685   30.91268053   34.00394859   37.40434344   41.14477779\n",
      "   45.25925557   49.78518112   54.76369924   60.24006916   66.26407608\n",
      "   72.89048369   80.17953205   88.19748526   97.01723378  106.71895716]\n"
     ]
    }
   ],
   "source": [
    "#Numerical solution loop\n",
    "for i in range(n-1):\n",
    "    y[i+1] = y[i] + dt*y[i]\n",
    "    \n",
    "print y    "
   ]
  },
  {
   "cell_type": "code",
   "execution_count": 60,
   "metadata": {
    "collapsed": false
   },
   "outputs": [
    {
     "name": "stdout",
     "output_type": "stream",
     "text": [
      "[   1.            1.10742867    1.22639826    1.3581486     1.5040527\n",
      "    1.66563108    1.84456762    2.04272707    2.26217453    2.50519693\n",
      "    2.77432691    3.07236917    3.40242971    3.76794821    4.17273388\n",
      "    4.62100514    5.11743359    5.66719268    6.27601167    6.95023527\n",
      "    7.69688981    8.52375646    9.4394523    10.45352012   11.57652791\n",
      "   12.82017893   14.19743372   15.72264517   17.41170806   19.28222474\n",
      "   21.35368853   23.64768693   26.18812654   29.00148219   32.11707291\n",
      "   35.5673674    39.38832245   43.61975762   48.30577025   53.495195\n",
      "   59.24211275   65.60641425   72.65442421   80.45959251   89.10325968\n",
      "   98.67550454  109.27608295  121.01546742  134.01599837  148.4131591 ]\n"
     ]
    }
   ],
   "source": [
    "#Exact solution using an anonymous function\n",
    "expfun = lambda x: np.exp(x) #exact solution\n",
    "tArray=np.array(np.linspace(0,tEnd,n))\n",
    "\n",
    "yExact=expfun(tArray)\n",
    "print yExact"
   ]
  },
  {
   "cell_type": "code",
   "execution_count": 61,
   "metadata": {
    "collapsed": false
   },
   "outputs": [
    {
     "data": {
      "image/png": "[encoded data removed]",
      "text/plain": [
       "<matplotlib.figure.Figure at 0x7f9a530dd7d0>"
      ]
     },
     "metadata": {},
     "output_type": "display_data"
    }
   ],
   "source": [
    "plt.plot(y, '--', linewidth=4, label='numerical solution')\n",
    "plt.plot(yExact, '-.', linewidth=4, label='analytical solution')\n",
    "plt.legend()\n",
    "plt.show()"
   ]
  }
 ],
 "metadata": {
  "kernelspec": {
   "display_name": "Python 2",
   "language": "python",
   "name": "python2"
  },
  "language_info": {
   "codemirror_mode": {
    "name": "ipython",
    "version": 2
   },
   "file_extension": ".py",
   "mimetype": "text/x-python",
   "name": "python",
   "nbconvert_exporter": "python",
   "pygments_lexer": "ipython2",
   "version": "2.7.12"
  }
 },
 "nbformat": 4,
 "nbformat_minor": 2
}
